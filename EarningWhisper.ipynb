{
 "cells": [
  {
   "cell_type": "code",
   "execution_count": 35,
   "id": "a58e8619",
   "metadata": {},
   "outputs": [
    {
     "name": "stdout",
     "output_type": "stream",
     "text": [
      "Darden Restaurants, Inc. at 2023/12/15\n",
      "{'ticker': 'DRI', 'company': 'Darden Restaurants, Inc.', 'total': 17, 'nextEPSDate': '2023-12-15T00:00:00', 'releaseTime': 1, 'qDate': '11/2023', 'q1RevEst': 2740000000.0, 'q1EstEPS': 1.71, 'confirmDate': '2023-11-16T16:19:18.39', 'epsTime': '2023-09-21T07:00:00', 'quarterDate': '2023-11-30T00:00:00', 'qSales': 2486.5} \n",
      "\n"
     ]
    }
   ],
   "source": [
    "import requests\n",
    "year = '2023'\n",
    "month = '12'\n",
    "day = '15'\n",
    "cal_url = \"https://www.earningswhispers.com/calendar/\"+year+month+day\n",
    "cal_api = \"https://www.earningswhispers.com/api/caldata/\"+year+month+day\n",
    "earnings = requests.get(url=cal_api, headers={'Referer': cal_url}).json()\n",
    "for earning in earnings:\n",
    "    print(earning['company'] + ' at ' + year+'/'+month+'/'+day)\n",
    "    print(earning, '\\n')"
   ]
  },
  {
   "cell_type": "code",
   "execution_count": 36,
   "id": "205aea34",
   "metadata": {},
   "outputs": [
    {
     "data": {
      "text/plain": [
       "{'ticker': 'DRI',\n",
       " 'company': 'Darden Restaurants, Inc.',\n",
       " 'total': 17,\n",
       " 'nextEPSDate': '2023-12-15T00:00:00',\n",
       " 'releaseTime': 1,\n",
       " 'qDate': '11/2023',\n",
       " 'q1RevEst': 2740000000.0,\n",
       " 'q1EstEPS': 1.71,\n",
       " 'confirmDate': '2023-11-16T16:19:18.39',\n",
       " 'epsTime': '2023-09-21T07:00:00',\n",
       " 'quarterDate': '2023-11-30T00:00:00',\n",
       " 'qSales': 2486.5}"
      ]
     },
     "execution_count": 36,
     "metadata": {},
     "output_type": "execute_result"
    }
   ],
   "source": [
    "earnings[0]"
   ]
  },
  {
   "cell_type": "code",
   "execution_count": 37,
   "id": "db1ccf43",
   "metadata": {},
   "outputs": [],
   "source": [
    "tickers = []\n",
    "eps = []\n",
    "revenues = []\n",
    "\n",
    "for company in range(len(earnings)):\n",
    "    tickers.append(earnings[company]['ticker'])\n",
    "    eps.append(earnings[company]['q1EstEPS'])\n",
    "    revenues.append(earnings[company]['q1RevEst'])"
   ]
  },
  {
   "cell_type": "code",
   "execution_count": 38,
   "id": "a6044879",
   "metadata": {},
   "outputs": [],
   "source": [
    "df = pd.DataFrame({\n",
    "    'Tickers': tickers,\n",
    "    'Estimated EPS for Q1': eps,\n",
    "    'Estimated Revenue for Q1': revenues\n",
    "})"
   ]
  },
  {
   "cell_type": "code",
   "execution_count": 39,
   "id": "99ab6dc0",
   "metadata": {},
   "outputs": [
    {
     "data": {
      "text/html": [
       "<div>\n",
       "<style scoped>\n",
       "    .dataframe tbody tr th:only-of-type {\n",
       "        vertical-align: middle;\n",
       "    }\n",
       "\n",
       "    .dataframe tbody tr th {\n",
       "        vertical-align: top;\n",
       "    }\n",
       "\n",
       "    .dataframe thead th {\n",
       "        text-align: right;\n",
       "    }\n",
       "</style>\n",
       "<table border=\"1\" class=\"dataframe\">\n",
       "  <thead>\n",
       "    <tr style=\"text-align: right;\">\n",
       "      <th></th>\n",
       "      <th>Tickers</th>\n",
       "      <th>Estimated EPS for Q1</th>\n",
       "      <th>Estimated Revenue for Q1</th>\n",
       "    </tr>\n",
       "  </thead>\n",
       "  <tbody>\n",
       "    <tr>\n",
       "      <th>0</th>\n",
       "      <td>DRI</td>\n",
       "      <td>1.71</td>\n",
       "      <td>2.740000e+09</td>\n",
       "    </tr>\n",
       "  </tbody>\n",
       "</table>\n",
       "</div>"
      ],
      "text/plain": [
       "  Tickers  Estimated EPS for Q1  Estimated Revenue for Q1\n",
       "0     DRI                  1.71              2.740000e+09"
      ]
     },
     "execution_count": 39,
     "metadata": {},
     "output_type": "execute_result"
    }
   ],
   "source": [
    "df"
   ]
  },
  {
   "cell_type": "markdown",
   "id": "e40e57ce",
   "metadata": {},
   "source": [
    "# Yahoo Finance"
   ]
  },
  {
   "cell_type": "code",
   "execution_count": 1,
   "id": "b5755816",
   "metadata": {},
   "outputs": [],
   "source": [
    "import numpy as np\n",
    "import pandas as pd\n",
    "import requests\n",
    "from bs4 import BeautifulSoup"
   ]
  },
  {
   "cell_type": "code",
   "execution_count": 2,
   "id": "fc568a26",
   "metadata": {},
   "outputs": [],
   "source": [
    "api = 'https://query1.finance.yahoo.com/v1/finance/visualization?crumb=7QUmLeK8AXV&lang=en-US&region=US&corsDomain=finance.yahoo.com'\n",
    "url = 'https://finance.yahoo.com/calendar/earnings?from=2023-12-10&to=2023-12-16&day=2023-12-11'"
   ]
  },
  {
   "cell_type": "code",
   "execution_count": 21,
   "id": "19531e64",
   "metadata": {},
   "outputs": [],
   "source": [
    "agent = 'Mozilla/5.0 (Windows NT 10.0; Win64; x64) AppleWebKit/537.36 (KHTML, like Gecko) Chrome/119.0.0.0 Safari/537.36'"
   ]
  },
  {
   "cell_type": "code",
   "execution_count": 31,
   "id": "25bfa785",
   "metadata": {},
   "outputs": [],
   "source": [
    "yf = requests.post(url=api, headers={'Referer': url, 'User-Agent': agent})"
   ]
  },
  {
   "cell_type": "code",
   "execution_count": 32,
   "id": "0a1054f4",
   "metadata": {},
   "outputs": [
    {
     "data": {
      "text/plain": [
       "<Response [401]>"
      ]
     },
     "execution_count": 32,
     "metadata": {},
     "output_type": "execute_result"
    }
   ],
   "source": [
    "yf"
   ]
  },
  {
   "cell_type": "code",
   "execution_count": null,
   "id": "983b54ab",
   "metadata": {},
   "outputs": [],
   "source": []
  },
  {
   "cell_type": "code",
   "execution_count": null,
   "id": "6692995b",
   "metadata": {},
   "outputs": [],
   "source": []
  },
  {
   "cell_type": "code",
   "execution_count": null,
   "id": "61fb4a86",
   "metadata": {},
   "outputs": [],
   "source": []
  },
  {
   "cell_type": "code",
   "execution_count": null,
   "id": "5462d038",
   "metadata": {},
   "outputs": [],
   "source": []
  }
 ],
 "metadata": {
  "kernelspec": {
   "display_name": "Python 3 (ipykernel)",
   "language": "python",
   "name": "python3"
  },
  "language_info": {
   "codemirror_mode": {
    "name": "ipython",
    "version": 3
   },
   "file_extension": ".py",
   "mimetype": "text/x-python",
   "name": "python",
   "nbconvert_exporter": "python",
   "pygments_lexer": "ipython3",
   "version": "3.11.5"
  }
 },
 "nbformat": 4,
 "nbformat_minor": 5
}
